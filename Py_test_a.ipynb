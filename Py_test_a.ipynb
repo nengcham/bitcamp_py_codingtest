{
 "cells": [
  {
   "cell_type": "markdown",
   "metadata": {},
   "source": [
    "---\n",
    "## [ 파이썬 기초 코딩테스트 ]\n",
    "---\n",
    "과정명   : Python 기초특강\n",
    "&nbsp;&nbsp;&nbsp;훈련기간 : 2022.01.17 ~ 2022.01.19  \n",
    "교과목   : Python 기초특강\n",
    "&nbsp;&nbsp;&nbsp;교/강사  : 정용관   \n",
    "\n",
    "#### __학습자명__ : 최건일 &nbsp;&nbsp;&nbsp;&nbsp;&nbsp; __점수__ : 100\n",
    "---"
   ]
  },
  {
   "cell_type": "markdown",
   "metadata": {},
   "source": [
    "> .  \n",
    "> __문제 01)__\n",
    "> ``` py\n",
    "> \"Hello world\" 문자열을 출력하는 실행문을 작성하시오.(5점)\n",
    "> ``` \n",
    "> .  "
   ]
  },
  {
   "cell_type": "code",
   "execution_count": 16,
   "metadata": {},
   "outputs": [
    {
     "name": "stdout",
     "output_type": "stream",
     "text": [
      "Hello world\n"
     ]
    }
   ],
   "source": [
    "print(\"Hello world\")"
   ]
  },
  {
   "cell_type": "markdown",
   "metadata": {},
   "source": [
    "---"
   ]
  },
  {
   "cell_type": "markdown",
   "metadata": {},
   "source": [
    "> .  \n",
    "> __문제 02)__\n",
    "> ``` py\n",
    "> 다음 코드의 구문 오류(SyntaxError) 원인을 찾아 바르게 수정하시오.(5점)\n",
    ">     \n",
    "> int score = 60;\n",
    "> if (score >= 60){\n",
    "> print(\"합격입니다.\")}\n",
    "> else\n",
    "> print(\"불합격입니다.\")\n",
    "> ```\n",
    "> .  "
   ]
  },
  {
   "cell_type": "code",
   "execution_count": 17,
   "metadata": {},
   "outputs": [
    {
     "name": "stdout",
     "output_type": "stream",
     "text": [
      "합격입니다.\n"
     ]
    }
   ],
   "source": [
    "score = 60\n",
    "if score >= 60:\n",
    "    print(\"합격입니다.\")\n",
    "else:\n",
    "    print(\"불합격입니다.\")"
   ]
  },
  {
   "cell_type": "markdown",
   "metadata": {},
   "source": [
    "---"
   ]
  },
  {
   "cell_type": "markdown",
   "metadata": {},
   "source": [
    "> .  \n",
    "> __문제 03)__\n",
    "> ``` py\n",
    "> 아래의 코드에서 변수에 데이터(값)를 할당하고, 변수 이름으로 데이터 타입을 확인하고자 한다.\n",
    "> 코드를 완성하시오.(5점)    \n",
    ">\n",
    "> value = 123   \n",
    "> print(?)      \n",
    ">\n",
    "> [실행결과]   \n",
    "> <class 'int'>\n",
    "> ```\n",
    "> .  "
   ]
  },
  {
   "cell_type": "code",
   "execution_count": 2,
   "metadata": {},
   "outputs": [
    {
     "name": "stdout",
     "output_type": "stream",
     "text": [
      "<class 'int'>\n"
     ]
    }
   ],
   "source": [
    "value = 123\n",
    "print(type(value))"
   ]
  },
  {
   "cell_type": "markdown",
   "metadata": {},
   "source": [
    "---"
   ]
  },
  {
   "cell_type": "markdown",
   "metadata": {},
   "source": [
    "> .  \n",
    "> __문제 04)__   \n",
    "> ``` py\n",
    "> 다음 코드를 실행했을 때 출력 결과가 '2021/12/28 11:43:59'로 나오도록   \n",
    "> 아래의 print()문을 완성하시오.(5점)     \n",
    ">\n",
    "> year = 2021; month = 12; day = 28;    \n",
    "> hour = 11; min = 43; sec = 59   \n",
    "> \n",
    "> print(year, month, day, sep=?, end=?)   \n",
    "> print(hour, min, sec, sep=?)   \n",
    "> ```\n",
    "> .  "
   ]
  },
  {
   "cell_type": "code",
   "execution_count": 18,
   "metadata": {},
   "outputs": [
    {
     "name": "stdout",
     "output_type": "stream",
     "text": [
      "2021/12/28 11:43:59\n"
     ]
    }
   ],
   "source": [
    "year = 2021; month = 12; day = 28; hour = 11; min = 43; sec = 59\n",
    "\n",
    "print(year, month, day, sep= '/', end= ' ')\n",
    "print(hour, min, sec, sep= ':')"
   ]
  },
  {
   "cell_type": "markdown",
   "metadata": {},
   "source": [
    "---"
   ]
  },
  {
   "cell_type": "markdown",
   "metadata": {},
   "source": [
    "> .  \n",
    "> __문제 05)__     \n",
    "> ``` py\n",
    "> num(정수)이 홀수인지 짝수인지 판별하는 코드를 완성하시오.(5점)   \n",
    ">\n",
    "> num = 23721499387  \n",
    "> if ??? :  \n",
    ">     print(\"짝수\")  \n",
    "> else:  \n",
    ">     print(\"홀수\")  \n",
    "> ```  \n",
    "> .  "
   ]
  },
  {
   "cell_type": "code",
   "execution_count": 5,
   "metadata": {},
   "outputs": [
    {
     "name": "stdout",
     "output_type": "stream",
     "text": [
      "홀수\n"
     ]
    }
   ],
   "source": [
    "num = 23721499387\n",
    "if num % 2 == 0 :\n",
    "    print(\"짝수\")\n",
    "else:\n",
    "    print(\"홀수\")"
   ]
  },
  {
   "cell_type": "markdown",
   "metadata": {},
   "source": [
    "---"
   ]
  },
  {
   "cell_type": "markdown",
   "metadata": {},
   "source": [
    "> .  \n",
    "> __문제 06)__ \n",
    "> ``` py\n",
    "> \"Hello world\" 문자열을 10번 출력하기 위한 while, for 반복문을 완성하시오.(10점)\n",
    "> ```\n",
    "> .  "
   ]
  },
  {
   "cell_type": "code",
   "execution_count": 12,
   "metadata": {},
   "outputs": [
    {
     "name": "stdout",
     "output_type": "stream",
     "text": [
      "Hello world\n",
      "Hello world\n",
      "Hello world\n",
      "Hello world\n",
      "Hello world\n",
      "Hello world\n",
      "Hello world\n",
      "Hello world\n",
      "Hello world\n",
      "Hello world\n"
     ]
    }
   ],
   "source": [
    "# while 반복문\n",
    "n = 0\n",
    "while n < 10:\n",
    "    n += 1\n",
    "    print(\"Hello world\")\n"
   ]
  },
  {
   "cell_type": "code",
   "execution_count": 11,
   "metadata": {},
   "outputs": [
    {
     "name": "stdout",
     "output_type": "stream",
     "text": [
      "Hello world\n",
      "Hello world\n",
      "Hello world\n",
      "Hello world\n",
      "Hello world\n",
      "Hello world\n",
      "Hello world\n",
      "Hello world\n",
      "Hello world\n",
      "Hello world\n"
     ]
    }
   ],
   "source": [
    "# for 반복문\n",
    "n = 0\n",
    "for n in range(10):\n",
    "    print(\"Hello world\")\n"
   ]
  },
  {
   "cell_type": "markdown",
   "metadata": {},
   "source": [
    "---"
   ]
  },
  {
   "cell_type": "markdown",
   "metadata": {},
   "source": [
    "> .  \n",
    "> __문제 07)__\n",
    "> ``` py\n",
    "> 정수 세 개를 입력받아 변수 a, b, c에 각각 저장한 후   \n",
    "> 세 정수의 합이 출력되도록 하는 프로그램을 작성하시오.(10점)  \n",
    "> ```\n",
    "> .  "
   ]
  },
  {
   "cell_type": "code",
   "execution_count": 19,
   "metadata": {},
   "outputs": [
    {
     "name": "stdout",
     "output_type": "stream",
     "text": [
      "세 정수의 합은 168입니다.\n"
     ]
    }
   ],
   "source": [
    "a = input(\"첫 번째 정수를 입력해주세요: \")\n",
    "b = input(\"두 번째 정수를 입력해주세요: \")\n",
    "c = input(\"세 번째 정수를 입력해주세요: \")\n",
    "\n",
    "total = int(a) + int(b) + int(c)\n",
    "\n",
    "print(f\"세 정수의 합은 {total}입니다.\")\n"
   ]
  },
  {
   "cell_type": "markdown",
   "metadata": {},
   "source": [
    "---"
   ]
  },
  {
   "cell_type": "markdown",
   "metadata": {},
   "source": [
    "> .    \n",
    "> __문제 08)__\n",
    "> ``` py   \n",
    "> 철수의 국어, 영어, 수학, 과학 점수를 입력받아 한 과목이라도 50점 미만이면 불합격 처리 하고자 한다.   \n",
    "> 다음 소스 코드를 완성하여 합격이면 True, 불합격이면 False 가 출력되도록 하시오.(10점)   \n",
    ">      \n",
    "> korean = 92\n",
    "> english = 47\n",
    "> mathematics = 86\n",
    "> science = 81    \n",
    ">   \n",
    "> print( ??? )   \n",
    ">    \n",
    "> [실행결과]   \n",
    "> False   \n",
    "> ```   \n",
    "> .   "
   ]
  },
  {
   "cell_type": "code",
   "execution_count": 42,
   "metadata": {},
   "outputs": [
    {
     "name": "stdout",
     "output_type": "stream",
     "text": [
      "False\n"
     ]
    }
   ],
   "source": [
    "korean  = 92\n",
    "english = 47\n",
    "mathematics = 86\n",
    "science = 81\n",
    "\n",
    "print(korean > 50 and english > 50 and mathematics > 50 and science > 50)"
   ]
  },
  {
   "cell_type": "markdown",
   "metadata": {},
   "source": [
    "---"
   ]
  },
  {
   "cell_type": "markdown",
   "metadata": {},
   "source": [
    "> .   \n",
    "> __문제 09)__\n",
    "> ``` py\n",
    "> 사용자로부터 문자열을 입력받아 각 문자의 아스키 코드에 5를 더하여    \n",
    "> 암호화된 문자열을 출력하는 프로그램을 작성하시오.   \n",
    "> 단, 함수 ord()와 chr()을 활용하시오.(15점)   \n",
    ">         \n",
    "> [실행결과]   \n",
    "> 문자열을 입력하시오: Python # 사용자가 입력한 문자열   \n",
    "> 암호화된 문자열은 U~ymts   \n",
    "> ```\n",
    "> .    "
   ]
  },
  {
   "cell_type": "code",
   "execution_count": 36,
   "metadata": {},
   "outputs": [
    {
     "name": "stdout",
     "output_type": "stream",
     "text": [
      "문자열을 입력하시오: A\n",
      "암호화된 문자열은 F\n"
     ]
    }
   ],
   "source": [
    "a = input(\"문자열을 입력하시오: \")\n",
    "b = ord(a) + 5\n",
    "c = chr(b)\n",
    "\n",
    "print(f\"문자열을 입력하시오: {a}\")\n",
    "print(f\"암호화된 문자열은 {c}\")"
   ]
  },
  {
   "cell_type": "markdown",
   "metadata": {},
   "source": [
    "---"
   ]
  },
  {
   "cell_type": "markdown",
   "metadata": {},
   "source": [
    "> .   \n",
    "> __문제 10)__    \n",
    "> ``` py  \n",
    "> 사용자로부터 초 단위 시간을 입력받아 몇 시, 몇 분, 몇 초 인지를 계산하는 프로그램을 작성하시오.    \n",
    "> 단, 아래의 주어진 함수를 완성하여 작성할 것.(15점)    \n",
    ">      \n",
    "> def get_hms(secs):   \n",
    ">     hours = ???   \n",
    ">     mins  = ???   \n",
    ">     secs  = ???   \n",
    ">     print('시간은 %02d:%02d:%02d' % (hours, mins, secs))\n",
    ">        \n",
    "> [실행결과]   \n",
    "> 초(sec)를 입력하시오: 12080 # 사용자가 입력한 수   \n",
    "> 시간은 03:21:20   \n",
    "> ```\n",
    "> .   "
   ]
  },
  {
   "cell_type": "code",
   "execution_count": 41,
   "metadata": {},
   "outputs": [
    {
     "name": "stdout",
     "output_type": "stream",
     "text": [
      "초(sec)를 입력하시오: 12080\n",
      "시간은 03:21:20\n"
     ]
    }
   ],
   "source": [
    "# 1시간 = 3600초 \n",
    "# 1분   = 60초\n",
    "\n",
    "secs = input(\"초(sec)를 입력시오: \")\n",
    "\n",
    "def get_hms(secs):\n",
    "    hours = int(secs) // 3600\n",
    "    mins  = (int(secs) % 3600) // 60\n",
    "    secs  = (int(secs) % 3600) % 60\n",
    "    print('시간은 %02d:%02d:%02d' % (hours, mins, secs))\n",
    "\n",
    "print(f\"초(sec)를 입력하시오: {secs}\")\n",
    "get_hms(secs)"
   ]
  },
  {
   "cell_type": "markdown",
   "metadata": {},
   "source": [
    "---"
   ]
  },
  {
   "cell_type": "markdown",
   "metadata": {},
   "source": [
    "> .   \n",
    "> __문제 11)__\n",
    "> ``` py\n",
    "> 백화점에서 한달 동안 이벤트를 진행한다. 제품을 구매한 고객들에게    \n",
    "> 성별, 나이별로 적립 금액을 다르게 지급할 예정이다.   \n",
    "> 다음의 요구사항을 만족하는 프로그램을 작성하시오.(15점)\n",
    ">          \n",
    "> <요구사항>   \n",
    "> 1. 남자는 나이에 상관없이 구매 금액의 3% 적립   \n",
    "> 2. 여자는 20대 미만인 경우 금액의 1.5%, 20대는 3%,    \n",
    ">    30대는 4.5%, 40대 이상은 6% 적립         \n",
    ">       \n",
    "> [실행결과]   \n",
    "> 성별을 입력하세요(여자:F, 남자:M, 종료:Q 또는 q): M   \n",
    "> 나이를 입력하세요: 25   \n",
    "> 제품의 총 구매액을 입력하세요: 10000   \n",
    "> 당신의 적립 금액은 300.00 원입니다.     \n",
    ">          \n",
    "> 성별을 입력하세요(여자:F, 남자:M, 종료:Q 또는 q): F   \n",
    "> 나이를 입력하세요: 10   \n",
    "> 제품의 총 구매액을 입력하세요: 10000   \n",
    "> 당신의 적립 금액은 150.00 원입니다.  \n",
    ">      \n",
    "> 성별을 입력하세요(여자:F, 남자:M, 종료:Q 또는 q): t   \n",
    "> 잘못입력하셨습니다.   \n",
    ">      \n",
    "> 성별을 입력하세요(여자:F, 남자:M, 종료:Q 또는 q): q   \n",
    "> 프로그램을 종료합니다.   \n",
    "> ```   \n",
    "> .      "
   ]
  },
  {
   "cell_type": "code",
   "execution_count": 16,
   "metadata": {},
   "outputs": [
    {
     "name": "stdout",
     "output_type": "stream",
     "text": [
      "성별을 입력하세요(여자:F, 남자:M, 종료:Q 또는 q): M\n",
      "나이를 입력하세요: 25\n",
      "제품의 총 구매액을 입력하세요: 10000\n",
      "당신의 적립 금액은 300.0입니다.\n",
      "\n",
      "성별을 입력하세요(여자:F, 남자:M, 종료:Q 또는 q): F\n",
      "나이를 입력하세요: 10\n",
      "제품의 총 구매액을 입력하세요: 10000\n",
      "당신의 적립 금액은 150.0입니다.\n",
      "\n",
      "성별을 입력하세요(여자:F, 남자:M, 종료:Q 또는 q): t\n",
      "잘못입력하셨습니다.\n",
      "\n",
      "성별을 입력하세요(여자:F, 남자:M, 종료:Q 또는 q): r\n",
      "잘못입력하셨습니다.\n",
      "\n",
      "성별을 입력하세요(여자:F, 남자:M, 종료:Q 또는 q): q\n",
      "프로그램을 종료합니다.\n"
     ]
    }
   ],
   "source": [
    "while True:\n",
    "    gender = input(\"성별을 입력하세요(여자:F, 남자:M, 종료:Q 또는 q): \")\n",
    "    print(f\"성별을 입력하세요(여자:F, 남자:M, 종료:Q 또는 q): {gender}\")\n",
    "    \n",
    "    if gender == \"F\" or gender == \"M\": \n",
    "        age = input(\"나이를 입력하세요: \")\n",
    "        print(f\"나이를 입력하세요: {age}\")\n",
    "        total = input(\"제품의 총 구매액을 입력하세요: \")\n",
    "        print(f\"제품의 총 구매액을 입력하세요: {total}\")\n",
    "\n",
    "        if gender == \"M\":\n",
    "            print(f\"당신의 적립 금액은 {int(total)*0.03}입니다.\")\n",
    "            print(\"\")\n",
    "        else:\n",
    "            if int(age) < 20:\n",
    "                print(f\"당신의 적립 금액은 {int(total)*0.015}입니다.\")\n",
    "                print(\"\")\n",
    "            elif int(age) < 30:\n",
    "                print(f\"당신의 적립 금액은 {int(total)*0.03}입니다.\")\n",
    "                print(\"\")\n",
    "            elif int(age) < 40:\n",
    "                print(f\"당신의 적립 금액은 {int(total)*0.045}입니다.\")\n",
    "                print(\"\")\n",
    "            else:\n",
    "                print(f\"당신의 적립 금액은 {int(total)*0.06}입니다.\")\n",
    "                print(\"\")\n",
    "    elif gender != \"F\" and gender != \"M\" and gender != \"Q\" and gender != \"q\":\n",
    "        print(\"잘못입력하셨습니다.\")\n",
    "        print(\"\")\n",
    "\n",
    "    elif gender == \"Q\" or gender == \"q\":\n",
    "        print(\"프로그램을 종료합니다.\")\n",
    "        break"
   ]
  },
  {
   "cell_type": "markdown",
   "metadata": {},
   "source": [
    "#       \n",
    "#      \n",
    "#### 수고하셨습니다."
   ]
  },
  {
   "cell_type": "markdown",
   "metadata": {},
   "source": [
    "---\n",
    "## 점수 : \n",
    "---"
   ]
  }
 ],
 "metadata": {
  "interpreter": {
   "hash": "4aa7a001941c8b447200068b1d71a3924cf04f02fe096f0aa27a7230a4a7f943"
  },
  "kernelspec": {
   "display_name": "Python 3.10.1 64-bit",
   "language": "python",
   "name": "python3"
  },
  "language_info": {
   "codemirror_mode": {
    "name": "ipython",
    "version": 3
   },
   "file_extension": ".py",
   "mimetype": "text/x-python",
   "name": "python",
   "nbconvert_exporter": "python",
   "pygments_lexer": "ipython3",
   "version": "3.10.1"
  },
  "orig_nbformat": 4
 },
 "nbformat": 4,
 "nbformat_minor": 2
}
